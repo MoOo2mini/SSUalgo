{
 "cells": [
  {
   "cell_type": "code",
   "execution_count": 2,
   "id": "ea73c097",
   "metadata": {},
   "outputs": [
    {
     "name": "stdout",
     "output_type": "stream",
     "text": [
      "3\n",
      "5 1 2\n",
      "4\n"
     ]
    }
   ],
   "source": [
    "# 모듈 추가\n",
    "from collections import Counter\n",
    "from itertools import combinations\n",
    "\n",
    "# 입력\n",
    "n = int(input())\n",
    "s = list(map(int, input().split()))\n",
    "\n",
    "# 입력값의 모든 조합을 구한 후, 조합 별 합을 새로운 리스트에 추가함\n",
    "sum_list = []\n",
    "for i in range(1, n+1):\n",
    "    combin = list(combinations(s, i))\n",
    "    for j in combin:\n",
    "        sum_list.append(sum(j))\n",
    "\n",
    "# 정렬\n",
    "sum_list.sort()\n",
    "\n",
    "# 없는 번호를 찾기 위한 체크 리스트\n",
    "check_num = [i for i in range(1, sum_list[-1]+2)]\n",
    "\n",
    "# check_num에서 sum_list를 빼주면 sum_list에 없는 번호만 result에 담김\n",
    "result = Counter(check_num) - Counter(sum_list)\n",
    "\n",
    "# result는 Counter이므로 리스트로 변환 후 맨 처음 키값만 출력 \n",
    "print(list(result.keys())[0])"
   ]
  },
  {
   "cell_type": "code",
   "execution_count": null,
   "id": "439cf000",
   "metadata": {},
   "outputs": [],
   "source": [
    "# 모듈 추가\n",
    "from collections import Counter\n",
    "from itertools import combinations\n",
    "\n",
    "n = int(input())\n",
    "s = list(map(int, input().split()))\n",
    "\n",
    "sum_list = []\n",
    "for i in range(1, n + 1) : # 1 <= i < n + 1\n",
    "    combin = list(combinations(s, i))\n",
    "    for j in combin:\n",
    "        sum_list.append(sum(j))\n",
    "\n",
    "sum_list.sort()\n",
    "\n",
    "check_num = [i for i in range(1, sum_list[-1] + 1)]\n",
    "\n",
    "result = Counter(check_num) - Counter(sum_list)\n",
    "\n",
    "print(list(result.keys())[0])"
   ]
  },
  {
   "cell_type": "markdown",
   "id": "ae8b8147",
   "metadata": {},
   "source": []
  }
 ],
 "metadata": {
  "kernelspec": {
   "display_name": "Python 3 (ipykernel)",
   "language": "python",
   "name": "python3"
  },
  "language_info": {
   "codemirror_mode": {
    "name": "ipython",
    "version": 3
   },
   "file_extension": ".py",
   "mimetype": "text/x-python",
   "name": "python",
   "nbconvert_exporter": "python",
   "pygments_lexer": "ipython3",
   "version": "3.8.16"
  }
 },
 "nbformat": 4,
 "nbformat_minor": 5
}
